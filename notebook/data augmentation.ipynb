{
 "cells": [
  {
   "cell_type": "markdown",
   "metadata": {},
   "source": [
    "## Data augmentation for Datascience bowl\n",
    "\n",
    "this kernel is to generate rotation shear and fliping sample to make more sample for Deep learning model training."
   ]
  },
  {
   "cell_type": "code",
   "execution_count": 1,
   "metadata": {},
   "outputs": [
    {
     "name": "stdout",
     "output_type": "stream",
     "text": [
      "stage1_test\n",
      "stage1_train\n",
      "\n"
     ]
    }
   ],
   "source": [
    "# This Python 3 environment comes with many helpful analytics libraries installed\n",
    "\n",
    "import numpy as np # linear algebra\n",
    "import pandas as pd # data processing, CSV file I/O (e.g. pd.read_csv)\n",
    "import random\n",
    "import skimage.io\n",
    "import matplotlib.pyplot as plt\n",
    "from skimage import transform\n",
    "%matplotlib inline \n",
    "# Input data files are available in the \"../input/\" directory.\n",
    "# For example, running this (by clicking run or pressing Shift+Enter) will list the files in the input directory\n",
    "\n",
    "from subprocess import check_output\n",
    "print(check_output([\"ls\", \"../input/\"]).decode(\"utf8\"))\n",
    "\n",
    "# Any results you write to the current directory are saved as output."
   ]
  },
  {
   "cell_type": "code",
   "execution_count": 2,
   "metadata": {},
   "outputs": [],
   "source": [
    "def read_image_labels(image_id):\n",
    "    # most of the content in this function is taken from 'Example Metric Implementation' kernel \n",
    "    # by 'William Cukierski'\n",
    "    image_file = \"../input/stage1_train/{}/images/{}.png\".format(image_id,image_id)\n",
    "    mask_file = \"../input/stage1_train/{}/masks/*.png\".format(image_id)\n",
    "    image = skimage.io.imread(image_file)\n",
    "    masks = skimage.io.imread_collection(mask_file).concatenate()    \n",
    "    height, width, _ = image.shape\n",
    "    num_masks = masks.shape[0]\n",
    "    labels = np.zeros((height, width), np.uint16)\n",
    "    for index in range(0, num_masks):\n",
    "        labels[masks[index] > 0] = index + 1\n",
    "    return image, labels"
   ]
  },
  {
   "cell_type": "code",
   "execution_count": 3,
   "metadata": {},
   "outputs": [],
   "source": [
    "def data_aug(image,label,angel=30,resize_rate=0.9):\n",
    "    flip = random.randint(0, 1)\n",
    "    size = image.shape[0]\n",
    "    rsize = random.randint(np.floor(resize_rate*size),size)\n",
    "    w_s = random.randint(0,size - rsize)\n",
    "    h_s = random.randint(0,size - rsize)\n",
    "    sh = random.random()/2-0.25\n",
    "    rotate_angel = random.random()/180*np.pi*angel\n",
    "    # Create Afine transform\n",
    "    afine_tf = transform.AffineTransform(shear=sh,rotation=rotate_angel)\n",
    "    # Apply transform to image data\n",
    "    image = transform.warp(image, inverse_map=afine_tf,mode='edge')\n",
    "    label = transform.warp(label, inverse_map=afine_tf,mode='edge')\n",
    "    # Randomly corpping image frame\n",
    "    image = image[w_s:w_s+size,h_s:h_s+size,:]\n",
    "    label = label[w_s:w_s+size,h_s:h_s+size]\n",
    "    # Ramdomly flip frame\n",
    "    if flip:\n",
    "        image = image[:,::-1,:]\n",
    "        label = label[:,::-1]\n",
    "    return image, label"
   ]
  },
  {
   "cell_type": "code",
   "execution_count": 4,
   "metadata": {},
   "outputs": [
    {
     "data": {
      "text/plain": [
       "<matplotlib.image.AxesImage at 0x7fcec0b1f8d0>"
      ]
     },
     "execution_count": 4,
     "metadata": {},
     "output_type": "execute_result"
    },
    {
     "data": {
      "image/png": "[encoded data removed]",
      "text/plain": [
       "<matplotlib.figure.Figure at 0x7fcef89ebd30>"
      ]
     },
     "metadata": {},
     "output_type": "display_data"
    }
   ],
   "source": [
    "image_ids = check_output([\"ls\", \"../input/stage1_train/\"]).decode(\"utf8\").split()\n",
    "image_id = image_ids[0]\n",
    "image, labels = read_image_labels(image_id)\n",
    "plt.subplot(221)\n",
    "plt.imshow(image)\n",
    "plt.subplot(222)\n",
    "plt.imshow(labels)\n",
    "\n",
    "new_image, new_labels = data_aug(image,labels,angel=5,resize_rate=0.9)\n",
    "plt.subplot(223)\n",
    "plt.imshow(new_image)\n",
    "plt.subplot(224)\n",
    "plt.imshow(new_labels)"
   ]
  },
  {
   "cell_type": "code",
   "execution_count": 5,
   "metadata": {},
   "outputs": [
    {
     "name": "stderr",
     "output_type": "stream",
     "text": [
      "100%|██████████| 671/671 [00:00<00:00, 2302.17it/s]\n"
     ]
    }
   ],
   "source": [
    "import os\n",
    "import shutil\n",
    "from tqdm import tqdm\n",
    "\n",
    "\n",
    "\n",
    "def make_data_augmentation(image_ids,split_num):\n",
    "    for ax_index, image_id in tqdm(enumerate(image_ids),total=len(image_ids)):\n",
    "        image,labels = read_image_labels(image_id)\n",
    "        if not os.path.exists(\"../input/stage1_train/{}/augs/\".format(image_id)):\n",
    "            os.makedirs(\"../input/stage1_train/{}/augs/\".format(image_id))\n",
    "        if not os.path.exists(\"../input/stage1_train/{}/augs_masks/\".format(image_id)):\n",
    "            os.makedirs(\"../input/stage1_train/{}/augs_masks/\".format(image_id))\n",
    "            \n",
    "        # also save the original image in augmented file \n",
    "        plt.imsave(fname=\"../input/stage1_train/{}/augs/{}.png\".format(image_id,image_id), arr = image)\n",
    "        plt.imsave(fname=\"../input/stage1_train/{}/augs_masks/{}.png\".format(image_id,image_id),arr = labels)\n",
    "\n",
    "        for i in range(split_num):\n",
    "            new_image, new_labels = data_aug(image,labels,angel=5,resize_rate=0.9)\n",
    "            aug_img_dir = \"../input/stage1_train/{}/augs/{}_{}.png\".format(image_id,image_id,i)\n",
    "            aug_mask_dir = \"../input/stage1_train/{}/augs_masks/{}_{}.png\".format(image_id,image_id,i)\n",
    "            plt.imsave(fname=aug_img_dir, arr = new_image)\n",
    "            plt.imsave(fname=aug_mask_dir,arr = new_labels)\n",
    "\n",
    "def clean_data_augmentation(image_ids):\n",
    "    for ax_index, image_id in tqdm(enumerate(image_ids),total=len(image_ids)):\n",
    "        if os.path.exists(\"../input/stage1_train/{}/augs/\".format(image_id)):\n",
    "            shutil.rmtree(\"../input/stage1_train/{}/augs/\".format(image_id))\n",
    "        if os.path.exists(\"../input/stage1_train/{}/augs_masks/\".format(image_id)):\n",
    "            shutil.rmtree(\"../input/stage1_train/{}/augs_masks/\".format(image_id))\n",
    "\n",
    "image_ids = check_output([\"ls\", \"../input/stage1_train/\"]).decode(\"utf8\").split()\n",
    "split_num = 10\n",
    "#make_data_augmentation(image_ids,split_num)\n",
    "clean_data_augmentation(image_ids)"
   ]
  },
  {
   "cell_type": "code",
   "execution_count": null,
   "metadata": {},
   "outputs": [],
   "source": [
    "\n"
   ]
  },
  {
   "cell_type": "code",
   "execution_count": null,
   "metadata": {},
   "outputs": [],
   "source": []
  },
  {
   "cell_type": "code",
   "execution_count": null,
   "metadata": {},
   "outputs": [],
   "source": []
  }
 ],
 "metadata": {
  "kernelspec": {
   "display_name": "Python 3",
   "language": "python",
   "name": "python3"
  },
  "language_info": {
   "codemirror_mode": {
    "name": "ipython",
    "version": 3
   },
   "file_extension": ".py",
   "mimetype": "text/x-python",
   "name": "python",
   "nbconvert_exporter": "python",
   "pygments_lexer": "ipython3",
   "version": "3.6.3"
  }
 },
 "nbformat": 4,
 "nbformat_minor": 2
}
